{
 "cells": [
  {
   "cell_type": "code",
   "execution_count": 2,
   "metadata": {
    "collapsed": false
   },
   "outputs": [],
   "source": [
    "import numpy\n",
    "import threading\n",
    "import sys\n",
    "import pandas as pd\n",
    "\n",
    "from qpython import qconnection\n",
    "from qpython.qtype import QException\n",
    "from qpython.qconnection import MessageType\n",
    "from qpython.qcollection import QTable"
   ]
  },
  {
   "cell_type": "code",
   "execution_count": 3,
   "metadata": {
    "collapsed": false
   },
   "outputs": [],
   "source": [
    "q=qconnection.QConnection(host = '183.136.130.82', port = 5030, pandas = True)\n",
    "q.open()"
   ]
  },
  {
   "cell_type": "code",
   "execution_count": 4,
   "metadata": {
    "collapsed": true
   },
   "outputs": [],
   "source": [
    "r = q.sync('select from trade1')"
   ]
  },
  {
   "cell_type": "code",
   "execution_count": 7,
   "metadata": {
    "collapsed": false
   },
   "outputs": [
    {
     "data": {
      "text/html": [
       "<div>\n",
       "<table border=\"1\" class=\"dataframe\">\n",
       "  <thead>\n",
       "    <tr style=\"text-align: right;\">\n",
       "      <th></th>\n",
       "      <th></th>\n",
       "      <th></th>\n",
       "      <th>entrustno</th>\n",
       "      <th>stockcode</th>\n",
       "      <th>askprice</th>\n",
       "      <th>askvol</th>\n",
       "      <th>bidprice</th>\n",
       "      <th>bidvol</th>\n",
       "      <th>status</th>\n",
       "    </tr>\n",
       "    <tr>\n",
       "      <th>time</th>\n",
       "      <th>sym</th>\n",
       "      <th>qid</th>\n",
       "      <th></th>\n",
       "      <th></th>\n",
       "      <th></th>\n",
       "      <th></th>\n",
       "      <th></th>\n",
       "      <th></th>\n",
       "      <th></th>\n",
       "    </tr>\n",
       "  </thead>\n",
       "  <tbody>\n",
       "    <tr>\n",
       "      <th>2015-11-18 17:31:45.344</th>\n",
       "      <th>321</th>\n",
       "      <th>0</th>\n",
       "      <td>0</td>\n",
       "      <td>0</td>\n",
       "      <td>0.0</td>\n",
       "      <td>0</td>\n",
       "      <td>0</td>\n",
       "      <td>0</td>\n",
       "      <td>0</td>\n",
       "    </tr>\n",
       "    <tr>\n",
       "      <th>2015-11-18 17:31:57.276</th>\n",
       "      <th>321</th>\n",
       "      <th>0</th>\n",
       "      <td>0</td>\n",
       "      <td>0</td>\n",
       "      <td>0.0</td>\n",
       "      <td>0</td>\n",
       "      <td>0</td>\n",
       "      <td>0</td>\n",
       "      <td>0</td>\n",
       "    </tr>\n",
       "    <tr>\n",
       "      <th>2015-11-18 17:32:12.274</th>\n",
       "      <th>321</th>\n",
       "      <th>0</th>\n",
       "      <td>0</td>\n",
       "      <td>0</td>\n",
       "      <td>0.0</td>\n",
       "      <td>0</td>\n",
       "      <td>0</td>\n",
       "      <td>0</td>\n",
       "      <td>0</td>\n",
       "    </tr>\n",
       "    <tr>\n",
       "      <th>2015-11-18 17:32:14.801</th>\n",
       "      <th>321</th>\n",
       "      <th>0</th>\n",
       "      <td>0</td>\n",
       "      <td>0</td>\n",
       "      <td>0.0</td>\n",
       "      <td>0</td>\n",
       "      <td>0</td>\n",
       "      <td>0</td>\n",
       "      <td>0</td>\n",
       "    </tr>\n",
       "    <tr>\n",
       "      <th>2015-11-18 17:32:33.392</th>\n",
       "      <th>321</th>\n",
       "      <th>0</th>\n",
       "      <td>0</td>\n",
       "      <td>0</td>\n",
       "      <td>0.0</td>\n",
       "      <td>0</td>\n",
       "      <td>0</td>\n",
       "      <td>0</td>\n",
       "      <td>0</td>\n",
       "    </tr>\n",
       "    <tr>\n",
       "      <th>2015-11-18 17:32:48.420</th>\n",
       "      <th>321</th>\n",
       "      <th>0</th>\n",
       "      <td>0</td>\n",
       "      <td>0</td>\n",
       "      <td>0.0</td>\n",
       "      <td>0</td>\n",
       "      <td>0</td>\n",
       "      <td>0</td>\n",
       "      <td>0</td>\n",
       "    </tr>\n",
       "    <tr>\n",
       "      <th>2015-11-19 15:27:16.466</th>\n",
       "      <th>4569852</th>\n",
       "      <th>0</th>\n",
       "      <td>0</td>\n",
       "      <td>600000</td>\n",
       "      <td>0.0</td>\n",
       "      <td>0</td>\n",
       "      <td>0</td>\n",
       "      <td>0</td>\n",
       "      <td>0</td>\n",
       "    </tr>\n",
       "    <tr>\n",
       "      <th>2015-11-19 15:27:41.512</th>\n",
       "      <th>4569852</th>\n",
       "      <th>1</th>\n",
       "      <td>0</td>\n",
       "      <td>600000</td>\n",
       "      <td>0.0</td>\n",
       "      <td>0</td>\n",
       "      <td>0</td>\n",
       "      <td>0</td>\n",
       "      <td>0</td>\n",
       "    </tr>\n",
       "    <tr>\n",
       "      <th>2015-11-19 15:27:45.183</th>\n",
       "      <th>4569852</th>\n",
       "      <th>2</th>\n",
       "      <td>0</td>\n",
       "      <td>600000</td>\n",
       "      <td>0.0</td>\n",
       "      <td>0</td>\n",
       "      <td>0</td>\n",
       "      <td>0</td>\n",
       "      <td>0</td>\n",
       "    </tr>\n",
       "    <tr>\n",
       "      <th>2015-11-19 15:31:00.195</th>\n",
       "      <th>4569852</th>\n",
       "      <th>3</th>\n",
       "      <td>0</td>\n",
       "      <td>600000</td>\n",
       "      <td>0.0</td>\n",
       "      <td>0</td>\n",
       "      <td>0</td>\n",
       "      <td>0</td>\n",
       "      <td>0</td>\n",
       "    </tr>\n",
       "    <tr>\n",
       "      <th>2015-11-20 11:29:06.339</th>\n",
       "      <th>123</th>\n",
       "      <th>1</th>\n",
       "      <td>0</td>\n",
       "      <td>600010</td>\n",
       "      <td>3.7</td>\n",
       "      <td>100</td>\n",
       "      <td>0</td>\n",
       "      <td>0</td>\n",
       "      <td>0</td>\n",
       "    </tr>\n",
       "  </tbody>\n",
       "</table>\n",
       "</div>"
      ],
      "text/plain": [
       "                                     entrustno  stockcode  askprice  askvol  \\\n",
       "time                    sym     qid                                           \n",
       "2015-11-18 17:31:45.344 321     0            0          0       0.0       0   \n",
       "2015-11-18 17:31:57.276 321     0            0          0       0.0       0   \n",
       "2015-11-18 17:32:12.274 321     0            0          0       0.0       0   \n",
       "2015-11-18 17:32:14.801 321     0            0          0       0.0       0   \n",
       "2015-11-18 17:32:33.392 321     0            0          0       0.0       0   \n",
       "2015-11-18 17:32:48.420 321     0            0          0       0.0       0   \n",
       "2015-11-19 15:27:16.466 4569852 0            0     600000       0.0       0   \n",
       "2015-11-19 15:27:41.512 4569852 1            0     600000       0.0       0   \n",
       "2015-11-19 15:27:45.183 4569852 2            0     600000       0.0       0   \n",
       "2015-11-19 15:31:00.195 4569852 3            0     600000       0.0       0   \n",
       "2015-11-20 11:29:06.339 123     1            0     600010       3.7     100   \n",
       "\n",
       "                                     bidprice  bidvol  status  \n",
       "time                    sym     qid                            \n",
       "2015-11-18 17:31:45.344 321     0           0       0       0  \n",
       "2015-11-18 17:31:57.276 321     0           0       0       0  \n",
       "2015-11-18 17:32:12.274 321     0           0       0       0  \n",
       "2015-11-18 17:32:14.801 321     0           0       0       0  \n",
       "2015-11-18 17:32:33.392 321     0           0       0       0  \n",
       "2015-11-18 17:32:48.420 321     0           0       0       0  \n",
       "2015-11-19 15:27:16.466 4569852 0           0       0       0  \n",
       "2015-11-19 15:27:41.512 4569852 1           0       0       0  \n",
       "2015-11-19 15:27:45.183 4569852 2           0       0       0  \n",
       "2015-11-19 15:31:00.195 4569852 3           0       0       0  \n",
       "2015-11-20 11:29:06.339 123     1           0       0       0  "
      ]
     },
     "execution_count": 7,
     "metadata": {},
     "output_type": "execute_result"
    }
   ],
   "source": [
    "r"
   ]
  },
  {
   "cell_type": "code",
   "execution_count": 10,
   "metadata": {
    "collapsed": false
   },
   "outputs": [],
   "source": [
    "response = q.sync('.u.sub', numpy.string_('trade1'), numpy.string_(''))"
   ]
  },
  {
   "cell_type": "code",
   "execution_count": 12,
   "metadata": {
    "collapsed": false
   },
   "outputs": [
    {
     "data": {
      "text/plain": [
       "list"
      ]
     },
     "execution_count": 12,
     "metadata": {},
     "output_type": "execute_result"
    }
   ],
   "source": [
    "print response[1]"
   ]
  },
  {
   "cell_type": "code",
   "execution_count": 5,
   "metadata": {
    "collapsed": true
   },
   "outputs": [],
   "source": [
    "message = q.receive(data_only=False, raw=False, pandas=True)"
   ]
  },
  {
   "cell_type": "code",
   "execution_count": 6,
   "metadata": {
    "collapsed": false
   },
   "outputs": [
    {
     "name": "stdout",
     "output_type": "stream",
     "text": [
      "              time   sym   price  size   stop cond ex\n",
      "0  18:23:07.107079  INTC   60.40    98  False    K  N\n",
      "1  18:23:07.107079  GOOG  239.40    76  False    R  N\n",
      "2  18:23:07.107079   HPQ   92.98    41  False    R  O\n",
      "3  18:23:07.107079   DOW   27.44    18  False    E  O\n",
      "4  18:23:07.614080   AMD   23.59    70  False    N  N\n",
      "5  18:23:07.614080  AAPL  363.12    53  False    B  N\n",
      "6  18:23:07.614080  GOOG  239.50    44  False    O  N\n",
      "7  18:23:07.614080   AMD   23.59    49   True    8  N\n",
      "8  18:23:07.614080  MSFT   47.52    57  False    Z  N\n",
      "9  18:23:07.614080  DELL   30.98    76  False    8  N\n",
      "10 18:23:07.614080   DOW   27.43     8  False    C  O\n",
      "11 18:23:07.614080   IBM   40.24    12  False    L  N\n",
      "12 18:23:07.614080  MSFT   47.49    47  False    N  N\n",
      "13 18:23:07.614080   AIG   10.38    19  False    E  O\n"
     ]
    }
   ],
   "source": [
    "print(message[2])"
   ]
  },
  {
   "cell_type": "code",
   "execution_count": 7,
   "metadata": {
    "collapsed": false
   },
   "outputs": [
    {
     "name": "stdout",
     "output_type": "stream",
     "text": [
      "['upd', 'trade',               time   sym   price  size   stop cond ex\n",
      "0  18:23:07.107079  INTC   60.40    98  False    K  N\n",
      "1  18:23:07.107079  GOOG  239.40    76  False    R  N\n",
      "2  18:23:07.107079   HPQ   92.98    41  False    R  O\n",
      "3  18:23:07.107079   DOW   27.44    18  False    E  O\n",
      "4  18:23:07.614080   AMD   23.59    70  False    N  N\n",
      "5  18:23:07.614080  AAPL  363.12    53  False    B  N\n",
      "6  18:23:07.614080  GOOG  239.50    44  False    O  N\n",
      "7  18:23:07.614080   AMD   23.59    49   True    8  N\n",
      "8  18:23:07.614080  MSFT   47.52    57  False    Z  N\n",
      "9  18:23:07.614080  DELL   30.98    76  False    8  N\n",
      "10 18:23:07.614080   DOW   27.43     8  False    C  O\n",
      "11 18:23:07.614080   IBM   40.24    12  False    L  N\n",
      "12 18:23:07.614080  MSFT   47.49    47  False    N  N\n",
      "13 18:23:07.614080   AIG   10.38    19  False    E  O]\n"
     ]
    }
   ],
   "source": [
    "print(message)"
   ]
  },
  {
   "cell_type": "code",
   "execution_count": 8,
   "metadata": {
    "collapsed": false
   },
   "outputs": [
    {
     "data": {
      "text/plain": [
       "list"
      ]
     },
     "execution_count": 8,
     "metadata": {},
     "output_type": "execute_result"
    }
   ],
   "source": [
    "type(message)"
   ]
  },
  {
   "cell_type": "code",
   "execution_count": 10,
   "metadata": {
    "collapsed": false
   },
   "outputs": [
    {
     "data": {
      "text/plain": [
       "pandas.core.frame.DataFrame"
      ]
     },
     "execution_count": 10,
     "metadata": {},
     "output_type": "execute_result"
    }
   ],
   "source": [
    "type(message[2])"
   ]
  },
  {
   "cell_type": "code",
   "execution_count": 14,
   "metadata": {
    "collapsed": false
   },
   "outputs": [
    {
     "ename": "AttributeError",
     "evalue": "'list' object has no attribute 'length'",
     "output_type": "error",
     "traceback": [
      "\u001b[1;31m---------------------------------------------------------------------------\u001b[0m",
      "\u001b[1;31mAttributeError\u001b[0m                            Traceback (most recent call last)",
      "\u001b[1;32m<ipython-input-14-281de9421d78>\u001b[0m in \u001b[0;36m<module>\u001b[1;34m()\u001b[0m\n\u001b[1;32m----> 1\u001b[1;33m \u001b[0mmessage\u001b[0m\u001b[1;33m.\u001b[0m\u001b[0mlength\u001b[0m\u001b[1;33m(\u001b[0m\u001b[1;33m)\u001b[0m\u001b[1;33m\u001b[0m\u001b[0m\n\u001b[0m",
      "\u001b[1;31mAttributeError\u001b[0m: 'list' object has no attribute 'length'"
     ]
    }
   ],
   "source": [
    "message.length()"
   ]
  },
  {
   "cell_type": "code",
   "execution_count": null,
   "metadata": {
    "collapsed": true
   },
   "outputs": [],
   "source": []
  }
 ],
 "metadata": {
  "kernelspec": {
   "display_name": "Python 2",
   "language": "python",
   "name": "python2"
  },
  "language_info": {
   "codemirror_mode": {
    "name": "ipython",
    "version": 2
   },
   "file_extension": ".py",
   "mimetype": "text/x-python",
   "name": "python",
   "nbconvert_exporter": "python",
   "pygments_lexer": "ipython2",
   "version": "2.7.10"
  }
 },
 "nbformat": 4,
 "nbformat_minor": 0
}
