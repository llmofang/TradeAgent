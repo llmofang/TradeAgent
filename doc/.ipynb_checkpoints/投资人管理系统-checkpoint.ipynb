{
 "cells": [
  {
   "cell_type": "markdown",
   "metadata": {},
   "source": [
    "## 表结构"
   ]
  },
  {
   "cell_type": "markdown",
   "metadata": {},
   "source": [
    "表结构关系：\n",
    "* 一个用户可以对应多个股票账号\n",
    "* 一个股票账号对应多个股票\n",
    "* 一个股票账号对应不同日期的盈利状况"
   ]
  },
  {
   "cell_type": "markdown",
   "metadata": {},
   "source": [
    "### 用户表（user）\n",
    "- id 主键，自动生成\n",
    "- username 用户名\n",
    "- password 密码，加密存储\n",
    "- salt 盐值，加密密码，可选，建议加密存储密码\n",
    "- chinese_name 中文名\n",
    "- company 公司名称\n",
    "- status 状态，0：停用 1：启用 状态为停用状态不可登录系统\n",
    "- role 角色， 1为管理员，0为普通用户"
   ]
  },
  {
   "cell_type": "markdown",
   "metadata": {},
   "source": [
    "### 股票账户表（account）\n",
    "- id 主键，自动生成\n",
    "- user_id 用户id，外键为user的id，表示该账户属于哪个用户，普通用户该字段不用显示，普通用户只能查看到属于字节的股票账户\n",
    "- alias 账号名称，中文/英文名称，长度：20个字节\n",
    "- broker 券商名称，字符串，长度：20个字节\n",
    "- acoount 账号，字符串， 长度：30个字节\n",
    "- password 密码，字符串，长度：30个字节\n",
    "- commission 手续费 float，百分比显示\n",
    "- status 状态，int，0：停用，1：启用"
   ]
  },
  {
   "cell_type": "markdown",
   "metadata": {},
   "source": [
    "### 股票表（stock)\n",
    "- id 主键，自动生成\n",
    "- acount_id 股票账户名称，主键为表股票账户表（account）的id，用户界面显示为股票账户表（account）的alias\n",
    "- stock_name 股票名称， 字符串， 16个字节\n",
    "- stock_code 股票代码， 字符串， 10个字节\n",
    "- total_num 持仓数量， int \n",
    "- tradable_num 可交易数量， int\n",
    "- changes 持仓变动数量，int\n",
    "- end_date 有效期，date，截止有效时间\n",
    "- status 状态，0：停用，1：启用\n",
    "- update_datetime 修改时间， 记录修改该记录的时间"
   ]
  },
  {
   "cell_type": "markdown",
   "metadata": {},
   "source": [
    "### 盈利情况表(profit)"
   ]
  },
  {
   "cell_type": "markdown",
   "metadata": {},
   "source": [
    "- id 主键，自动生成\n",
    "- date 日期，date类型\n",
    "- acount_id 股票账户名称，主键为表股票账户表（account）的id，用户界面显示为股票账户表（account）的alias\n",
    "- profit 浮赢，float\n",
    "- amount 交易金额，float\n",
    "- profitability 盈利能力， float, 显示百分比，百分比的小数点后保留两位\n",
    "- efficiency 利用率，  float, 显示百分比，百分比的小数点后保留两位"
   ]
  },
  {
   "cell_type": "markdown",
   "metadata": {},
   "source": [
    "## 功能需求"
   ]
  },
  {
   "cell_type": "markdown",
   "metadata": {},
   "source": [
    "### 管理员功能：\n",
    "\n",
    "* 用户管理\n",
    "\n",
    "添加、修改用户，设置初始密码，用户表（user）除了id以外，其他均为输入\n",
    "\n",
    "* 盈利情况汇报\n",
    "\n",
    "选择用户名和股票账户，添加自定日期的盈利情况，除了id外，其他均为输入参数\n",
    "\n",
    "* 仓位变更情况汇报\n",
    "\n",
    "选择用户名和股票账户以及股票名称，修改股票表（stock)的changes字段，备份当前的记录到stock_history，备份用户的修改前的记录\n",
    "\n",
    "### 普通用户功能：\n",
    "\n",
    "* 用户登录\n",
    "\n",
    "\n",
    "* 添加/修改 股票账户\n",
    "\n",
    "股票账户表（account）除了id 主键和user_id以外，其他字段均为用户输入\n",
    "\n",
    "* 添加/修改股票\n",
    "\n",
    "股票表（stock)的id自动生成，用户选择（alias)账号名称， (changes)持仓变动数量无需输入，默认为0，其他字段均为用户输入，用户每一次修改都需要备份当前的记录到stock_history，备份用户的修改记录\n",
    "\n",
    "* 盈利情况展示\n",
    "\n",
    "展示属于该用户下的盈利情况，用户无法修改，数据由管理员录入"
   ]
  }
 ],
 "metadata": {
  "kernelspec": {
   "display_name": "Python 2",
   "language": "python",
   "name": "python2"
  },
  "language_info": {
   "codemirror_mode": {
    "name": "ipython",
    "version": 2
   },
   "file_extension": ".py",
   "mimetype": "text/x-python",
   "name": "python",
   "nbconvert_exporter": "python",
   "pygments_lexer": "ipython2",
   "version": "2.7.10"
  }
 },
 "nbformat": 4,
 "nbformat_minor": 0
}
